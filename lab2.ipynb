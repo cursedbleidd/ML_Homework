{
 "cells": [
  {
   "cell_type": "markdown",
   "metadata": {},
   "source": [
    "**Импорт**"
   ]
  },
  {
   "cell_type": "code",
   "execution_count": 91,
   "metadata": {},
   "outputs": [],
   "source": [
    "import numpy as np\n",
    "import pandas as pd\n",
    "from sklearn.datasets import load_iris\n",
    "from sklearn.model_selection import train_test_split\n",
    "from sklearn.preprocessing import StandardScaler"
   ]
  },
  {
   "cell_type": "markdown",
   "metadata": {},
   "source": [
    "**Загрузка данных**"
   ]
  },
  {
   "cell_type": "code",
   "execution_count": 92,
   "metadata": {},
   "outputs": [
    {
     "name": "stdout",
     "output_type": "stream",
     "text": [
      "Кол-во признаков: 4\n"
     ]
    }
   ],
   "source": [
    "iris = load_iris()\n",
    "X = iris.data  \n",
    "print(f'Кол-во признаков: {len(X[0])}')\n",
    "\n",
    "#scaler = StandardScaler()\n",
    "#X = scaler.fit_transform(X)"
   ]
  },
  {
   "cell_type": "markdown",
   "metadata": {},
   "source": [
    "**Расстояние**"
   ]
  },
  {
   "cell_type": "code",
   "execution_count": 93,
   "metadata": {},
   "outputs": [],
   "source": [
    "def euclidean_distance(x, y):\n",
    "    return np.sqrt(np.sum((x - y) ** 2))\n",
    "\n",
    "def pairwise_distances1(obj, objs):\n",
    "    return np.array([euclidean_distance(obj, x) for x in objs])"
   ]
  },
  {
   "cell_type": "markdown",
   "metadata": {},
   "source": [
    "## Кластеризация"
   ]
  },
  {
   "cell_type": "code",
   "execution_count": 94,
   "metadata": {},
   "outputs": [],
   "source": [
    "def maximin_clustering(X, threshold=1.0):\n",
    "    # Начальные значения\n",
    "    n_samples = X.shape[0]\n",
    "    clusters = []\n",
    "    labels = np.zeros(X.shape[0], dtype=int)\n",
    "    cluster_centers = []\n",
    "    last = 0\n",
    "\n",
    "    # Выбираем первый случайный центр\n",
    "    first_center = X[0]\n",
    "    cluster_centers.append(first_center)\n",
    "    labels[0] = last\n",
    "    last += 1\n",
    "    clusters.append([0])  # Объект 0 входит в первый кластер\n",
    "\n",
    "    # Найдем второй центр - объект, который дальше всего от первого\n",
    "    distances = pairwise_distances1(first_center, X)\n",
    "    second_center_index = np.argmax(distances)\n",
    "    second_center = X[second_center_index]\n",
    "    labels[second_center_index] = last\n",
    "    last += 1\n",
    "    cluster_centers.append(second_center)\n",
    "    clusters.append([int(second_center_index)])\n",
    "\n",
    "    # Кластеризация оставшихся объектов\n",
    "    for i in range(1, n_samples):\n",
    "        if i == second_center_index:\n",
    "            continue  # Пропускаем уже выбранный центр\n",
    "\n",
    "        # Считаем расстояния до всех центров кластеров\n",
    "        distances_to_centers = pairwise_distances1(X[i], cluster_centers)\n",
    "\n",
    "        # Найдем минимальное расстояние до центра\n",
    "        min_distance = np.min(distances_to_centers)\n",
    "        nearest_cluster = np.argmin(distances_to_centers)\n",
    "\n",
    "        # Если расстояние до ближайшего кластера больше порога, создаем новый кластер\n",
    "        if min_distance > threshold:\n",
    "            cluster_centers.append(X[i])\n",
    "            clusters.append([i])\n",
    "            labels[i] = last\n",
    "            last += 1\n",
    "        else:\n",
    "            clusters[nearest_cluster].append(i)\n",
    "            labels[i] = nearest_cluster\n",
    "\n",
    "    return clusters, cluster_centers, labels\n"
   ]
  },
  {
   "cell_type": "code",
   "execution_count": 95,
   "metadata": {},
   "outputs": [
    {
     "name": "stdout",
     "output_type": "stream",
     "text": [
      "Количество кластеров: 3\n",
      "Кластер 1: [0, 1, 2, 3, 4, 5, 6, 7, 8, 9, 10, 11, 12, 13, 14, 15, 16, 17, 18, 19, 20, 21, 22, 23, 24, 25, 26, 27, 28, 29, 30, 31, 32, 33, 34, 35, 36, 37, 38, 39, 40, 41, 42, 43, 44, 45, 46, 47, 48, 49]\n",
      "Кластер 2: [118, 50, 51, 52, 100, 102, 104, 105, 107, 108, 109, 112, 116, 117, 120, 122, 124, 125, 128, 129, 130, 131, 132, 135, 136, 139, 140, 141, 143, 144, 145]\n",
      "Кластер 3: [53, 54, 55, 56, 57, 58, 59, 60, 61, 62, 63, 64, 65, 66, 67, 68, 69, 70, 71, 72, 73, 74, 75, 76, 77, 78, 79, 80, 81, 82, 83, 84, 85, 86, 87, 88, 89, 90, 91, 92, 93, 94, 95, 96, 97, 98, 99, 101, 103, 106, 110, 111, 113, 114, 115, 119, 121, 123, 126, 127, 133, 134, 137, 138, 142, 146, 147, 148, 149]\n",
      "Метки:\n",
      "[0 0 0 0 0 0 0 0 0 0 0 0 0 0 0 0 0 0 0 0 0 0 0 0 0 0 0 0 0 0 0 0 0 0 0 0 0\n",
      " 0 0 0 0 0 0 0 0 0 0 0 0 0 1 1 1 2 2 2 2 2 2 2 2 2 2 2 2 2 2 2 2 2 2 2 2 2\n",
      " 2 2 2 2 2 2 2 2 2 2 2 2 2 2 2 2 2 2 2 2 2 2 2 2 2 2 1 2 1 2 1 1 2 1 1 1 2\n",
      " 2 1 2 2 2 1 1 1 2 1 2 1 2 1 1 2 2 1 1 1 1 1 2 2 1 1 2 2 1 1 1 2 1 1 1 2 2\n",
      " 2 2]\n"
     ]
    }
   ],
   "source": [
    "# Пороговое значение (можно поэкспериментировать с его изменением)\n",
    "threshold = 3\n",
    "\n",
    "# Применение метода максимина\n",
    "clusters, cluster_centers, labels = maximin_clustering(X, threshold)\n",
    "\n",
    "# Вывод результатов кластеризации\n",
    "print(f'Количество кластеров: {len(clusters)}')\n",
    "for i, cluster in enumerate(clusters):\n",
    "    print(f'Кластер {i + 1}: {cluster}')\n",
    "\n",
    "print(f'Метки:\\n{labels}')"
   ]
  }
 ],
 "metadata": {
  "kernelspec": {
   "display_name": "Python 3",
   "language": "python",
   "name": "python3"
  },
  "language_info": {
   "codemirror_mode": {
    "name": "ipython",
    "version": 3
   },
   "file_extension": ".py",
   "mimetype": "text/x-python",
   "name": "python",
   "nbconvert_exporter": "python",
   "pygments_lexer": "ipython3",
   "version": "3.12.3"
  }
 },
 "nbformat": 4,
 "nbformat_minor": 2
}
