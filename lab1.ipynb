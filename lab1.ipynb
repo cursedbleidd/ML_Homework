{
 "cells": [
  {
   "cell_type": "markdown",
   "metadata": {},
   "source": [
    "**Импорт**"
   ]
  },
  {
   "cell_type": "code",
   "execution_count": 61,
   "metadata": {},
   "outputs": [],
   "source": [
    "import numpy as np\n",
    "import pandas as pd\n",
    "from sklearn.datasets import load_iris\n",
    "from sklearn.model_selection import train_test_split\n",
    "# from sklearn.preprocessing import StandardScaler"
   ]
  },
  {
   "cell_type": "markdown",
   "metadata": {},
   "source": [
    "**Загрузка данных**"
   ]
  },
  {
   "cell_type": "code",
   "execution_count": 62,
   "metadata": {},
   "outputs": [
    {
     "name": "stdout",
     "output_type": "stream",
     "text": [
      "Кол-во признаков: 4 Кол-во классов: 3\n"
     ]
    }
   ],
   "source": [
    "iris = load_iris()\n",
    "X = iris.data  # Признаки\n",
    "y = iris.target  # Классы\n",
    "print(f'Кол-во признаков: {X.shape[1]} Кол-во классов: {len(set(y))}')"
   ]
  },
  {
   "cell_type": "markdown",
   "metadata": {},
   "source": [
    "**Разделение на тестовую и обучающую**"
   ]
  },
  {
   "cell_type": "code",
   "execution_count": 63,
   "metadata": {},
   "outputs": [],
   "source": [
    "X_train, X_test, y_train, y_test = train_test_split(X, y, test_size=0.1)\n",
    "\n",
    "# Масштабирование данных для улучшения работы метрик\n",
    "# scaler = StandardScaler()\n",
    "# X_train = scaler.fit_transform(X_train)\n",
    "# X_test = scaler.transform(X_test)"
   ]
  },
  {
   "cell_type": "markdown",
   "metadata": {},
   "source": [
    "**Метрики**"
   ]
  },
  {
   "cell_type": "code",
   "execution_count": 64,
   "metadata": {},
   "outputs": [],
   "source": [
    "def euclidean_distance(x, y):\n",
    "    return np.sqrt(np.sum((x - y) ** 2))\n",
    "\n",
    "def hamming_distance(x, y):\n",
    "    return np.mean(x != y)\n",
    "\n",
    "def manhattan_distance(x, y):\n",
    "    return np.sum(np.abs(x - y))\n",
    "\n",
    "def jaccard_distance(x, y):\n",
    "    intersection = np.minimum(x, y).sum()\n",
    "    union = np.maximum(x, y).sum()\n",
    "    return 1 - intersection / union\n",
    "\n",
    "def cosine_distance(x, y):\n",
    "    dot_product = np.dot(x, y)\n",
    "    norm_x = np.linalg.norm(x)\n",
    "    norm_y = np.linalg.norm(y)\n",
    "    return 1 - dot_product / (norm_x * norm_y)"
   ]
  },
  {
   "cell_type": "markdown",
   "metadata": {},
   "source": [
    "### Классификация"
   ]
  },
  {
   "cell_type": "code",
   "execution_count": 65,
   "metadata": {},
   "outputs": [],
   "source": [
    "def classify_object(X_train, y_train, X_test_object, metric):\n",
    "    closest_class = None\n",
    "    \n",
    "    distances = np.array([metric(x_train, X_test_object) for x_train in X_train])\n",
    "    closest_class = y_train[distances.argmin()]\n",
    "    \n",
    "    return closest_class"
   ]
  },
  {
   "cell_type": "markdown",
   "metadata": {},
   "source": [
    "### Оценка"
   ]
  },
  {
   "cell_type": "code",
   "execution_count": 66,
   "metadata": {},
   "outputs": [
    {
     "name": "stdout",
     "output_type": "stream",
     "text": [
      "Metric: euclidean_distance Accuracy: 100.00%\n",
      "Metric: hamming_distance Accuracy: 86.67%\n",
      "Metric: manhattan_distance Accuracy: 100.00%\n",
      "Metric: jaccard_distance Accuracy: 100.00%\n",
      "Metric: cosine_distance Accuracy: 100.00%\n"
     ]
    }
   ],
   "source": [
    "\n",
    "for metric in [euclidean_distance, hamming_distance, manhattan_distance, jaccard_distance, cosine_distance]:\n",
    "    y_prev = [classify_object(X_train, y_train, x_test, metric) for x_test in X_test]\n",
    "\n",
    "    accuracy = np.sum(y_prev == y_test) / len(y_prev)\n",
    "    print(f'Metric: {metric.__name__} Accuracy: {accuracy * 100:.2f}%')\n",
    "\n"
   ]
  }
 ],
 "metadata": {
  "kernelspec": {
   "display_name": "Python 3",
   "language": "python",
   "name": "python3"
  },
  "language_info": {
   "codemirror_mode": {
    "name": "ipython",
    "version": 3
   },
   "file_extension": ".py",
   "mimetype": "text/x-python",
   "name": "python",
   "nbconvert_exporter": "python",
   "pygments_lexer": "ipython3",
   "version": "3.12.3"
  }
 },
 "nbformat": 4,
 "nbformat_minor": 2
}
