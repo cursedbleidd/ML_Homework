{
 "cells": [
  {
   "cell_type": "code",
   "execution_count": 344,
   "id": "935b9094",
   "metadata": {},
   "outputs": [],
   "source": [
    "import pandas as pd\n",
    "import numpy as np\n",
    "from sklearn.preprocessing import Normalizer, StandardScaler, MaxAbsScaler, MinMaxScaler, QuantileTransformer, Binarizer\n",
    "from sklearn.model_selection import train_test_split\n",
    "from sklearn.datasets import load_iris\n",
    "from sklearn.neighbors import KNeighborsClassifier\n",
    "from sklearn.metrics import accuracy_score\n",
    "from random import randint\n",
    "# Задача 1.\n",
    "# Исследовать качество работы классификаторы в зависимости от выбранного метода преобразования данных\n",
    "# Изучить методы преобразования данных: from sklearn.preprocessing https://scikit-learn.org/stable/modules/preprocessing.html\n",
    "# Критерий качества - accuracy\n",
    "# Сформировать таблицу для сравнения"
   ]
  },
  {
   "cell_type": "markdown",
   "id": "6eb976b9",
   "metadata": {},
   "source": [
    "Инициализация"
   ]
  },
  {
   "cell_type": "code",
   "execution_count": 345,
   "id": "7c96dc51",
   "metadata": {},
   "outputs": [],
   "source": [
    "\n",
    "iris = load_iris()\n",
    "iris_data = iris.data\n",
    "random_state, test_size = 42, 0.3\n",
    "normalizer = Normalizer() #???\n",
    "X_train, X_test, y_train, y_test = train_test_split(iris_data, iris.target, test_size=test_size, random_state=random_state)\n",
    "scalers = [StandardScaler(), MaxAbsScaler(), MinMaxScaler(), QuantileTransformer(n_quantiles=int(iris_data.shape[0] * (1 - test_size))), Binarizer()]\n",
    "\n",
    "acc_df = pd.DataFrame()\n",
    "classifier = KNeighborsClassifier(n_neighbors=1)"
   ]
  },
  {
   "cell_type": "markdown",
   "id": "206db1f9",
   "metadata": {},
   "source": [
    "Вычисление точности классификации для каждого метода предообработки данных"
   ]
  },
  {
   "cell_type": "code",
   "execution_count": 346,
   "id": "f2e2f805",
   "metadata": {},
   "outputs": [],
   "source": [
    "\n",
    "for scaler in scalers:\n",
    "    scaler.fit(X_train)\n",
    "    X_train_scaled = scaler.transform(X_train)\n",
    "    X_test_scaled = scaler.transform(X_test)\n",
    "\n",
    "    classifier.fit(X_train_scaled, y_train)\n",
    "    y_pred = classifier.predict(X_test_scaled)\n",
    "    acc_df[f'{type(scaler).__name__}'] = [accuracy_score(y_test, y_pred)]\n"
   ]
  },
  {
   "cell_type": "markdown",
   "id": "70ea4257",
   "metadata": {},
   "source": [
    "Нормализация"
   ]
  },
  {
   "cell_type": "code",
   "execution_count": 347,
   "id": "83c16c65",
   "metadata": {},
   "outputs": [],
   "source": [
    "\n",
    "X = normalizer.transform(iris_data)\n",
    "X_train, X_test, y_train, y_test = train_test_split(X, iris.target, test_size=test_size, random_state=random_state)\n",
    "\n",
    "classifier.fit(X_train, y_train)\n",
    "y_pred = classifier.predict(X_test)\n",
    "acc_df[f'{type(normalizer).__name__}'] = [accuracy_score(y_test, y_pred)]"
   ]
  },
  {
   "cell_type": "markdown",
   "id": "6b6b43a7",
   "metadata": {},
   "source": [
    "### Результаты"
   ]
  },
  {
   "cell_type": "code",
   "execution_count": 348,
   "id": "9d360275",
   "metadata": {},
   "outputs": [
    {
     "data": {
      "text/html": [
       "<div>\n",
       "<style scoped>\n",
       "    .dataframe tbody tr th:only-of-type {\n",
       "        vertical-align: middle;\n",
       "    }\n",
       "\n",
       "    .dataframe tbody tr th {\n",
       "        vertical-align: top;\n",
       "    }\n",
       "\n",
       "    .dataframe thead th {\n",
       "        text-align: right;\n",
       "    }\n",
       "</style>\n",
       "<table border=\"1\" class=\"dataframe\">\n",
       "  <thead>\n",
       "    <tr style=\"text-align: right;\">\n",
       "      <th></th>\n",
       "      <th>StandardScaler</th>\n",
       "      <th>MaxAbsScaler</th>\n",
       "      <th>MinMaxScaler</th>\n",
       "      <th>QuantileTransformer</th>\n",
       "      <th>Binarizer</th>\n",
       "      <th>Normalizer</th>\n",
       "    </tr>\n",
       "  </thead>\n",
       "  <tbody>\n",
       "    <tr>\n",
       "      <th>0</th>\n",
       "      <td>0.977778</td>\n",
       "      <td>0.977778</td>\n",
       "      <td>1.0</td>\n",
       "      <td>1.0</td>\n",
       "      <td>0.288889</td>\n",
       "      <td>0.977778</td>\n",
       "    </tr>\n",
       "  </tbody>\n",
       "</table>\n",
       "</div>"
      ],
      "text/plain": [
       "   StandardScaler  MaxAbsScaler  MinMaxScaler  QuantileTransformer  Binarizer  \\\n",
       "0        0.977778      0.977778           1.0                  1.0   0.288889   \n",
       "\n",
       "   Normalizer  \n",
       "0    0.977778  "
      ]
     },
     "execution_count": 348,
     "metadata": {},
     "output_type": "execute_result"
    }
   ],
   "source": [
    "acc_df"
   ]
  },
  {
   "cell_type": "markdown",
   "id": "77427c66",
   "metadata": {},
   "source": [
    "### **Выводы**\n",
    "\n",
    "Лучше всех справился **MinMaxScaler**\n",
    "\n",
    "_StandardScaler, MaxAbsScaler, Normalizer_ справились удовлетворительно\n",
    "\n",
    "**Binarizer** справился хуже всех"
   ]
  }
 ],
 "metadata": {
  "kernelspec": {
   "display_name": "Python 3",
   "language": "python",
   "name": "python3"
  },
  "language_info": {
   "codemirror_mode": {
    "name": "ipython",
    "version": 3
   },
   "file_extension": ".py",
   "mimetype": "text/x-python",
   "name": "python",
   "nbconvert_exporter": "python",
   "pygments_lexer": "ipython3",
   "version": "3.12.3"
  }
 },
 "nbformat": 4,
 "nbformat_minor": 5
}
