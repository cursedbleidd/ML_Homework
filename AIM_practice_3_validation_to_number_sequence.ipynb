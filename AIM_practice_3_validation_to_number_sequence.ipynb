{
 "cells": [
  {
   "cell_type": "code",
   "execution_count": 9,
   "metadata": {},
   "outputs": [],
   "source": [
    "# Преоразовать существующий код для распознавания последовательности рукописных символов в текст.\n",
    "# Написать генератор произвольной последовательности рукописных символов.\n",
    "\n",
    "# ГЕНЕРАЦИЯ НАБОРА ДАННЫХ\n",
    "# Сгенерировать набор текстовых строк из допустимых символов.\n",
    "# Каждому набору поставить в соотвествие массив изоражений соответствующих символов.\n",
    "# Добавить пробелы для разделения слов, символы пробелов не использовать во время классификации.\n",
    "\n",
    "# КЛАССИФИКАЦИЯ (k ближайших соседей)\n",
    "# Часть символов оставить для обучения классификатора . Остальные  классифицировать\n",
    "# по аналогии с примером mnist с прошлого занятия. Т.е. преобразовывать изображение в вектор.\n",
    "# Выбрать оптимальный классификатор в зависимости от k- количество соседей.\n",
    "# Метрика для измерения точности классификации, и выбора оптимального классификатора относительно параметра k - accuracy.\n",
    "\n",
    "# РАСПОЗНАВАНИЕ\n",
    "# Итак, к данному этапу Вы из массива изображений \"восстановили\" текст.\n",
    "# Случайно удалите некоторые символы,и случайно добавьте символы в результат распознавания.\n",
    "# Рассчитайте метрику CER.\n",
    "import os\n",
    "import random\n",
    "import numpy as np\n",
    "from PIL import Image\n",
    "from IPython.display import display\n",
    "import cv2 \n",
    "import imutils\n",
    "from sklearn.metrics import accuracy_score\n",
    "from sklearn.neighbors import KNeighborsClassifier"
   ]
  },
  {
   "cell_type": "markdown",
   "metadata": {},
   "source": [
    "# Генерация набора данных"
   ]
  },
  {
   "cell_type": "markdown",
   "metadata": {},
   "source": [
    "### Сгенерировать набор текстовых строк из допустимых символов."
   ]
  },
  {
   "cell_type": "code",
   "execution_count": null,
   "metadata": {},
   "outputs": [],
   "source": []
  },
  {
   "cell_type": "markdown",
   "metadata": {},
   "source": [
    "\n",
    "### Каждому набору поставить в соотвествие массив изоражений соответствующих символов."
   ]
  },
  {
   "cell_type": "code",
   "execution_count": null,
   "metadata": {},
   "outputs": [],
   "source": []
  },
  {
   "cell_type": "markdown",
   "metadata": {},
   "source": [
    "\n",
    "### Добавить пробелы для разделения слов, символы пробелов не использовать во время классификации."
   ]
  },
  {
   "cell_type": "code",
   "execution_count": null,
   "metadata": {},
   "outputs": [],
   "source": []
  },
  {
   "cell_type": "markdown",
   "metadata": {},
   "source": [
    "# КЛАССИФИКАЦИЯ (k ближайших соседей)"
   ]
  },
  {
   "cell_type": "markdown",
   "metadata": {},
   "source": [
    "### Часть символов оставить для обучения классификатора.\n",
    "Остальные  классифицировать по аналогии с примером mnist с прошлого занятия. Т.е. преобразовывать изображение в вектор."
   ]
  },
  {
   "cell_type": "code",
   "execution_count": null,
   "metadata": {},
   "outputs": [],
   "source": []
  },
  {
   "cell_type": "markdown",
   "metadata": {},
   "source": [
    "\n",
    "### Выбрать оптимальный классификатор в зависимости от k- количество соседей."
   ]
  },
  {
   "cell_type": "code",
   "execution_count": null,
   "metadata": {},
   "outputs": [],
   "source": []
  },
  {
   "cell_type": "markdown",
   "metadata": {},
   "source": [
    "\n",
    "### Метрика для измерения точности классификации, и выбора оптимального классификатора относительно параметра k - accuracy."
   ]
  },
  {
   "cell_type": "code",
   "execution_count": null,
   "metadata": {},
   "outputs": [],
   "source": []
  },
  {
   "cell_type": "markdown",
   "metadata": {},
   "source": [
    "# Генерация набора данных"
   ]
  },
  {
   "cell_type": "markdown",
   "metadata": {},
   "source": [
    "### Случайно удалите некоторые символы,и случайно добавьте символы в результат распознавания."
   ]
  },
  {
   "cell_type": "code",
   "execution_count": null,
   "metadata": {},
   "outputs": [],
   "source": []
  },
  {
   "cell_type": "markdown",
   "metadata": {},
   "source": [
    "### Рассчитайте метрику CER."
   ]
  },
  {
   "cell_type": "code",
   "execution_count": null,
   "metadata": {},
   "outputs": [],
   "source": []
  }
 ],
 "metadata": {
  "kernelspec": {
   "display_name": "Python 3",
   "language": "python",
   "name": "python3"
  },
  "language_info": {
   "codemirror_mode": {
    "name": "ipython",
    "version": 3
   },
   "file_extension": ".py",
   "mimetype": "text/x-python",
   "name": "python",
   "nbconvert_exporter": "python",
   "pygments_lexer": "ipython3",
   "version": "3.13.0"
  }
 },
 "nbformat": 4,
 "nbformat_minor": 2
}
